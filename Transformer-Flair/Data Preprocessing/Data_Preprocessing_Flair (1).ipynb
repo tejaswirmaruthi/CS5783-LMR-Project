{
  "nbformat": 4,
  "nbformat_minor": 0,
  "metadata": {
    "colab": {
      "provenance": []
    },
    "kernelspec": {
      "name": "python3",
      "display_name": "Python 3"
    },
    "language_info": {
      "name": "python"
    }
  },
  "cells": [
    {
      "cell_type": "code",
      "source": [
        "!git clone https://github.com/rsuwaileh/IDRISI.git"
      ],
      "metadata": {
        "colab": {
          "base_uri": "https://localhost:8080/"
        },
        "id": "F1FjpVJzptcT",
        "outputId": "c250e891-5d62-424e-bf31-014808600f72"
      },
      "execution_count": null,
      "outputs": [
        {
          "output_type": "stream",
          "name": "stdout",
          "text": [
            "fatal: destination path 'IDRISI' already exists and is not an empty directory.\n"
          ]
        }
      ]
    },
    {
      "cell_type": "markdown",
      "source": [
        "# Train File"
      ],
      "metadata": {
        "id": "3tvfGnt7xgPf"
      }
    },
    {
      "cell_type": "code",
      "source": [
        "%%time\n",
        "import shutil\n",
        "\n",
        "path = \"/content/\" + \"IDRISI/LMR/data/\"\n",
        "\n",
        "events = [\"california_wildfires_2018\", \"canada_wildfires_2016\", \"cyclone_idai_2019\", \"ecuador_earthquake_2016\", \n",
        "          \"greece_wildfires_2018\", \"hurricane_dorian_2019\", \"hurricane_florence_2018\", \"hurricane_harvey_2017\", \n",
        "          \"hurricane_irma_2017\", \"hurricane_maria_2017\", \"hurricane_matthew_2016\", \"italy_earthquake_aug_2016\", \n",
        "          \"kaikoura_earthquake_2016\", \"kerala_floods_2018\", \"maryland_floods_2018\", \"midwestern_us_floods_2019\", \n",
        "          \"pakistan_earthquake_2019\", \"puebla_mexico_earthquake_2017\", \"srilanka_floods_2017\"]\n",
        "\n",
        "train_path_list = []\n",
        "test_path_list = []\n",
        "for typ in ['typeless']:\n",
        "    for case in ['random']:\n",
        "        for event in events:\n",
        "            in_path = path + \"EN/gold-\" + case + \"-bilou/\" + event \n",
        "            train_path = in_path + \"/train.txt\"\n",
        "            test_path = in_path + \"/dev.txt\"\n",
        "            train_path_list.append(train_path)\n",
        "            test_path_list.append(test_path)\n",
        "print(train_path_list)\n",
        "print(test_path_list)\n",
        "\n",
        "\n",
        "with open('roberta_TRAIN.txt','wb') as wfd:\n",
        "    for f in train_path_list:\n",
        "        with open(f,'rb') as fd:\n",
        "            shutil.copyfileobj(fd, wfd)\n"
      ],
      "metadata": {
        "colab": {
          "base_uri": "https://localhost:8080/"
        },
        "id": "qcEELuclptYv",
        "outputId": "290b4fa8-a741-4004-8f94-44be148f4661"
      },
      "execution_count": null,
      "outputs": [
        {
          "output_type": "stream",
          "name": "stdout",
          "text": [
            "['/content/IDRISI/LMR/data/EN/gold-random-bilou/california_wildfires_2018/train.txt', '/content/IDRISI/LMR/data/EN/gold-random-bilou/canada_wildfires_2016/train.txt', '/content/IDRISI/LMR/data/EN/gold-random-bilou/cyclone_idai_2019/train.txt', '/content/IDRISI/LMR/data/EN/gold-random-bilou/ecuador_earthquake_2016/train.txt', '/content/IDRISI/LMR/data/EN/gold-random-bilou/greece_wildfires_2018/train.txt', '/content/IDRISI/LMR/data/EN/gold-random-bilou/hurricane_dorian_2019/train.txt', '/content/IDRISI/LMR/data/EN/gold-random-bilou/hurricane_florence_2018/train.txt', '/content/IDRISI/LMR/data/EN/gold-random-bilou/hurricane_harvey_2017/train.txt', '/content/IDRISI/LMR/data/EN/gold-random-bilou/hurricane_irma_2017/train.txt', '/content/IDRISI/LMR/data/EN/gold-random-bilou/hurricane_maria_2017/train.txt', '/content/IDRISI/LMR/data/EN/gold-random-bilou/hurricane_matthew_2016/train.txt', '/content/IDRISI/LMR/data/EN/gold-random-bilou/italy_earthquake_aug_2016/train.txt', '/content/IDRISI/LMR/data/EN/gold-random-bilou/kaikoura_earthquake_2016/train.txt', '/content/IDRISI/LMR/data/EN/gold-random-bilou/kerala_floods_2018/train.txt', '/content/IDRISI/LMR/data/EN/gold-random-bilou/maryland_floods_2018/train.txt', '/content/IDRISI/LMR/data/EN/gold-random-bilou/midwestern_us_floods_2019/train.txt', '/content/IDRISI/LMR/data/EN/gold-random-bilou/pakistan_earthquake_2019/train.txt', '/content/IDRISI/LMR/data/EN/gold-random-bilou/puebla_mexico_earthquake_2017/train.txt', '/content/IDRISI/LMR/data/EN/gold-random-bilou/srilanka_floods_2017/train.txt']\n",
            "['/content/IDRISI/LMR/data/EN/gold-random-bilou/california_wildfires_2018/dev.txt', '/content/IDRISI/LMR/data/EN/gold-random-bilou/canada_wildfires_2016/dev.txt', '/content/IDRISI/LMR/data/EN/gold-random-bilou/cyclone_idai_2019/dev.txt', '/content/IDRISI/LMR/data/EN/gold-random-bilou/ecuador_earthquake_2016/dev.txt', '/content/IDRISI/LMR/data/EN/gold-random-bilou/greece_wildfires_2018/dev.txt', '/content/IDRISI/LMR/data/EN/gold-random-bilou/hurricane_dorian_2019/dev.txt', '/content/IDRISI/LMR/data/EN/gold-random-bilou/hurricane_florence_2018/dev.txt', '/content/IDRISI/LMR/data/EN/gold-random-bilou/hurricane_harvey_2017/dev.txt', '/content/IDRISI/LMR/data/EN/gold-random-bilou/hurricane_irma_2017/dev.txt', '/content/IDRISI/LMR/data/EN/gold-random-bilou/hurricane_maria_2017/dev.txt', '/content/IDRISI/LMR/data/EN/gold-random-bilou/hurricane_matthew_2016/dev.txt', '/content/IDRISI/LMR/data/EN/gold-random-bilou/italy_earthquake_aug_2016/dev.txt', '/content/IDRISI/LMR/data/EN/gold-random-bilou/kaikoura_earthquake_2016/dev.txt', '/content/IDRISI/LMR/data/EN/gold-random-bilou/kerala_floods_2018/dev.txt', '/content/IDRISI/LMR/data/EN/gold-random-bilou/maryland_floods_2018/dev.txt', '/content/IDRISI/LMR/data/EN/gold-random-bilou/midwestern_us_floods_2019/dev.txt', '/content/IDRISI/LMR/data/EN/gold-random-bilou/pakistan_earthquake_2019/dev.txt', '/content/IDRISI/LMR/data/EN/gold-random-bilou/puebla_mexico_earthquake_2017/dev.txt', '/content/IDRISI/LMR/data/EN/gold-random-bilou/srilanka_floods_2017/dev.txt']\n",
            "CPU times: user 2.63 ms, sys: 4.97 ms, total: 7.61 ms\n",
            "Wall time: 10.1 ms\n"
          ]
        }
      ]
    },
    {
      "cell_type": "markdown",
      "source": [
        "# Test+ Val File"
      ],
      "metadata": {
        "id": "NVAooWTNxjYZ"
      }
    },
    {
      "cell_type": "code",
      "source": [
        "%%time\n",
        "import shutil\n",
        "\n",
        "path = \"/content/\" + \"IDRISI/LMR/data/\"\n",
        "\n",
        "events = [\"california_wildfires_2018\", \"canada_wildfires_2016\", \"cyclone_idai_2019\", \"ecuador_earthquake_2016\", \n",
        "          \"greece_wildfires_2018\", \"hurricane_dorian_2019\", \"hurricane_florence_2018\", \"hurricane_harvey_2017\", \n",
        "          \"hurricane_irma_2017\", \"hurricane_maria_2017\", \"hurricane_matthew_2016\", \"italy_earthquake_aug_2016\", \n",
        "          \"kaikoura_earthquake_2016\", \"kerala_floods_2018\", \"maryland_floods_2018\", \"midwestern_us_floods_2019\", \n",
        "          \"pakistan_earthquake_2019\", \"puebla_mexico_earthquake_2017\", \"srilanka_floods_2017\"]\n",
        "\n",
        "train_path_list = []\n",
        "test_path_list = []\n",
        "for typ in ['typeless']:\n",
        "    for case in ['random']:\n",
        "        for event in events:\n",
        "            in_path = path + \"EN/gold-\" + case + \"-bilou/\" + event \n",
        "            train_path = in_path + \"/train.txt\"\n",
        "            test_path = in_path + \"/dev.txt\"\n",
        "            train_path_list.append(train_path)\n",
        "            test_path_list.append(test_path)\n",
        "print(train_path_list)\n",
        "print(test_path_list)\n",
        "\n",
        "\n",
        "with open('roberta_TEST.txt','wb') as wfd:\n",
        "    for f in test_path_list:\n",
        "        with open(f,'rb') as fd:\n",
        "            shutil.copyfileobj(fd, wfd)"
      ],
      "metadata": {
        "colab": {
          "base_uri": "https://localhost:8080/"
        },
        "id": "8RU6DU8GptWT",
        "outputId": "44330271-5c69-49eb-ba80-7757632ed181"
      },
      "execution_count": null,
      "outputs": [
        {
          "output_type": "stream",
          "name": "stdout",
          "text": [
            "['/content/IDRISI/LMR/data/EN/gold-random-bilou/california_wildfires_2018/train.txt', '/content/IDRISI/LMR/data/EN/gold-random-bilou/canada_wildfires_2016/train.txt', '/content/IDRISI/LMR/data/EN/gold-random-bilou/cyclone_idai_2019/train.txt', '/content/IDRISI/LMR/data/EN/gold-random-bilou/ecuador_earthquake_2016/train.txt', '/content/IDRISI/LMR/data/EN/gold-random-bilou/greece_wildfires_2018/train.txt', '/content/IDRISI/LMR/data/EN/gold-random-bilou/hurricane_dorian_2019/train.txt', '/content/IDRISI/LMR/data/EN/gold-random-bilou/hurricane_florence_2018/train.txt', '/content/IDRISI/LMR/data/EN/gold-random-bilou/hurricane_harvey_2017/train.txt', '/content/IDRISI/LMR/data/EN/gold-random-bilou/hurricane_irma_2017/train.txt', '/content/IDRISI/LMR/data/EN/gold-random-bilou/hurricane_maria_2017/train.txt', '/content/IDRISI/LMR/data/EN/gold-random-bilou/hurricane_matthew_2016/train.txt', '/content/IDRISI/LMR/data/EN/gold-random-bilou/italy_earthquake_aug_2016/train.txt', '/content/IDRISI/LMR/data/EN/gold-random-bilou/kaikoura_earthquake_2016/train.txt', '/content/IDRISI/LMR/data/EN/gold-random-bilou/kerala_floods_2018/train.txt', '/content/IDRISI/LMR/data/EN/gold-random-bilou/maryland_floods_2018/train.txt', '/content/IDRISI/LMR/data/EN/gold-random-bilou/midwestern_us_floods_2019/train.txt', '/content/IDRISI/LMR/data/EN/gold-random-bilou/pakistan_earthquake_2019/train.txt', '/content/IDRISI/LMR/data/EN/gold-random-bilou/puebla_mexico_earthquake_2017/train.txt', '/content/IDRISI/LMR/data/EN/gold-random-bilou/srilanka_floods_2017/train.txt']\n",
            "['/content/IDRISI/LMR/data/EN/gold-random-bilou/california_wildfires_2018/dev.txt', '/content/IDRISI/LMR/data/EN/gold-random-bilou/canada_wildfires_2016/dev.txt', '/content/IDRISI/LMR/data/EN/gold-random-bilou/cyclone_idai_2019/dev.txt', '/content/IDRISI/LMR/data/EN/gold-random-bilou/ecuador_earthquake_2016/dev.txt', '/content/IDRISI/LMR/data/EN/gold-random-bilou/greece_wildfires_2018/dev.txt', '/content/IDRISI/LMR/data/EN/gold-random-bilou/hurricane_dorian_2019/dev.txt', '/content/IDRISI/LMR/data/EN/gold-random-bilou/hurricane_florence_2018/dev.txt', '/content/IDRISI/LMR/data/EN/gold-random-bilou/hurricane_harvey_2017/dev.txt', '/content/IDRISI/LMR/data/EN/gold-random-bilou/hurricane_irma_2017/dev.txt', '/content/IDRISI/LMR/data/EN/gold-random-bilou/hurricane_maria_2017/dev.txt', '/content/IDRISI/LMR/data/EN/gold-random-bilou/hurricane_matthew_2016/dev.txt', '/content/IDRISI/LMR/data/EN/gold-random-bilou/italy_earthquake_aug_2016/dev.txt', '/content/IDRISI/LMR/data/EN/gold-random-bilou/kaikoura_earthquake_2016/dev.txt', '/content/IDRISI/LMR/data/EN/gold-random-bilou/kerala_floods_2018/dev.txt', '/content/IDRISI/LMR/data/EN/gold-random-bilou/maryland_floods_2018/dev.txt', '/content/IDRISI/LMR/data/EN/gold-random-bilou/midwestern_us_floods_2019/dev.txt', '/content/IDRISI/LMR/data/EN/gold-random-bilou/pakistan_earthquake_2019/dev.txt', '/content/IDRISI/LMR/data/EN/gold-random-bilou/puebla_mexico_earthquake_2017/dev.txt', '/content/IDRISI/LMR/data/EN/gold-random-bilou/srilanka_floods_2017/dev.txt']\n",
            "CPU times: user 2.13 ms, sys: 774 µs, total: 2.9 ms\n",
            "Wall time: 2.92 ms\n"
          ]
        }
      ]
    },
    {
      "cell_type": "markdown",
      "source": [
        "# 2) Deberta-ontonote5"
      ],
      "metadata": {
        "id": "zLedRoB8rJpb"
      }
    },
    {
      "cell_type": "markdown",
      "source": [
        "# Train file"
      ],
      "metadata": {
        "id": "F98H-QmgxmxD"
      }
    },
    {
      "cell_type": "code",
      "source": [
        "%%time\n",
        "import shutil\n",
        "import pandas as pd\n",
        "import numpy as np\n",
        "\n",
        "path = \"/content/\" + \"IDRISI/LMR/data/\"\n",
        "\n",
        "events = [\"california_wildfires_2018\", \"canada_wildfires_2016\", \"cyclone_idai_2019\", \"ecuador_earthquake_2016\", \n",
        "          \"greece_wildfires_2018\", \"hurricane_dorian_2019\", \"hurricane_florence_2018\", \"hurricane_harvey_2017\", \n",
        "          \"hurricane_irma_2017\", \"hurricane_maria_2017\", \"hurricane_matthew_2016\", \"italy_earthquake_aug_2016\", \n",
        "          \"kaikoura_earthquake_2016\", \"kerala_floods_2018\", \"maryland_floods_2018\", \"midwestern_us_floods_2019\", \n",
        "          \"pakistan_earthquake_2019\", \"puebla_mexico_earthquake_2017\", \"srilanka_floods_2017\"]\n",
        "\n",
        "train_path_list = []\n",
        "test_path_list = []\n",
        "for typ in ['typeless']:\n",
        "    for case in ['random']:\n",
        "        for event in events:\n",
        "            in_path = path + \"EN/gold-\" + case + \"-bilou/\" + event \n",
        "            train_path = in_path + \"/train.txt\"\n",
        "            test_path = in_path + \"/dev.txt\"\n",
        "            train_path_list.append(train_path)\n",
        "            test_path_list.append(test_path)\n",
        "print(train_path_list)\n",
        "print(test_path_list)\n",
        "\n",
        "types = {\"Island\": \"ISL\", \"State\": \"STAT\", \"Continent\": \"CONT\", \"City/town\": \"CITY\", \"Country\": \"CTRY\",\n",
        "        \"County\": \"CNTY\", \"Neighborhood\": \"NBHD\", \"District\": \"DIST\", \"Road/street\": \"ST\", \"Other locations\": \"OTHR\", \n",
        "        \"Natural Point-of-Interest\": \"NPOI\", \"Human-made Point-of-Interest\": \"HPOI\"}\n",
        "with open('deberta_train.txt','wb') as wfd:\n",
        "    for f in train_path_list:\n",
        "        with open(f,'rb') as fd:\n",
        "            shutil.copyfileobj(fd, wfd)\n",
        "\n",
        "df = pd.read_csv(\"/content/deberta_train.txt\", encoding='utf8', header=None, skip_blank_lines=False, sep=' ')\n",
        "\n",
        "# Cases of \", O\"; handling issues encountered. So dropping\n",
        "df.drop(df[~df[0].isna() & df[1].isna()].index, inplace=True)\n",
        "\n",
        "for v in types.values():\n",
        "    df[1] = df[1].str.replace(v, 'LOC')\n",
        "df[1] = df[1].str.replace('U-LOC', 'S-LOC')\n",
        "df[1] = df[1].str.replace('L-LOC', 'E-LOC')\n",
        "\n",
        "print(df[1].value_counts())\n",
        "\n",
        "df[\"comb\"]=df[0] + \" \" + df[1]\n",
        "df = df[[\"comb\"]]\n",
        "df.replace(np.nan,'',regex=True, inplace=True)\n",
        "df.to_csv(\"deberta_TRAIN.txt\", index=False, header=False)"
      ],
      "metadata": {
        "colab": {
          "base_uri": "https://localhost:8080/"
        },
        "id": "aB_JgjsZrJVR",
        "outputId": "5d876477-e18a-43f7-f9ff-2e7a5f7be5f9"
      },
      "execution_count": null,
      "outputs": [
        {
          "output_type": "stream",
          "name": "stdout",
          "text": [
            "['/content/IDRISI/LMR/data/EN/gold-random-bilou/california_wildfires_2018/train.txt', '/content/IDRISI/LMR/data/EN/gold-random-bilou/canada_wildfires_2016/train.txt', '/content/IDRISI/LMR/data/EN/gold-random-bilou/cyclone_idai_2019/train.txt', '/content/IDRISI/LMR/data/EN/gold-random-bilou/ecuador_earthquake_2016/train.txt', '/content/IDRISI/LMR/data/EN/gold-random-bilou/greece_wildfires_2018/train.txt', '/content/IDRISI/LMR/data/EN/gold-random-bilou/hurricane_dorian_2019/train.txt', '/content/IDRISI/LMR/data/EN/gold-random-bilou/hurricane_florence_2018/train.txt', '/content/IDRISI/LMR/data/EN/gold-random-bilou/hurricane_harvey_2017/train.txt', '/content/IDRISI/LMR/data/EN/gold-random-bilou/hurricane_irma_2017/train.txt', '/content/IDRISI/LMR/data/EN/gold-random-bilou/hurricane_maria_2017/train.txt', '/content/IDRISI/LMR/data/EN/gold-random-bilou/hurricane_matthew_2016/train.txt', '/content/IDRISI/LMR/data/EN/gold-random-bilou/italy_earthquake_aug_2016/train.txt', '/content/IDRISI/LMR/data/EN/gold-random-bilou/kaikoura_earthquake_2016/train.txt', '/content/IDRISI/LMR/data/EN/gold-random-bilou/kerala_floods_2018/train.txt', '/content/IDRISI/LMR/data/EN/gold-random-bilou/maryland_floods_2018/train.txt', '/content/IDRISI/LMR/data/EN/gold-random-bilou/midwestern_us_floods_2019/train.txt', '/content/IDRISI/LMR/data/EN/gold-random-bilou/pakistan_earthquake_2019/train.txt', '/content/IDRISI/LMR/data/EN/gold-random-bilou/puebla_mexico_earthquake_2017/train.txt', '/content/IDRISI/LMR/data/EN/gold-random-bilou/srilanka_floods_2017/train.txt']\n",
            "['/content/IDRISI/LMR/data/EN/gold-random-bilou/california_wildfires_2018/dev.txt', '/content/IDRISI/LMR/data/EN/gold-random-bilou/canada_wildfires_2016/dev.txt', '/content/IDRISI/LMR/data/EN/gold-random-bilou/cyclone_idai_2019/dev.txt', '/content/IDRISI/LMR/data/EN/gold-random-bilou/ecuador_earthquake_2016/dev.txt', '/content/IDRISI/LMR/data/EN/gold-random-bilou/greece_wildfires_2018/dev.txt', '/content/IDRISI/LMR/data/EN/gold-random-bilou/hurricane_dorian_2019/dev.txt', '/content/IDRISI/LMR/data/EN/gold-random-bilou/hurricane_florence_2018/dev.txt', '/content/IDRISI/LMR/data/EN/gold-random-bilou/hurricane_harvey_2017/dev.txt', '/content/IDRISI/LMR/data/EN/gold-random-bilou/hurricane_irma_2017/dev.txt', '/content/IDRISI/LMR/data/EN/gold-random-bilou/hurricane_maria_2017/dev.txt', '/content/IDRISI/LMR/data/EN/gold-random-bilou/hurricane_matthew_2016/dev.txt', '/content/IDRISI/LMR/data/EN/gold-random-bilou/italy_earthquake_aug_2016/dev.txt', '/content/IDRISI/LMR/data/EN/gold-random-bilou/kaikoura_earthquake_2016/dev.txt', '/content/IDRISI/LMR/data/EN/gold-random-bilou/kerala_floods_2018/dev.txt', '/content/IDRISI/LMR/data/EN/gold-random-bilou/maryland_floods_2018/dev.txt', '/content/IDRISI/LMR/data/EN/gold-random-bilou/midwestern_us_floods_2019/dev.txt', '/content/IDRISI/LMR/data/EN/gold-random-bilou/pakistan_earthquake_2019/dev.txt', '/content/IDRISI/LMR/data/EN/gold-random-bilou/puebla_mexico_earthquake_2017/dev.txt', '/content/IDRISI/LMR/data/EN/gold-random-bilou/srilanka_floods_2017/dev.txt']\n",
            "O        344948\n",
            "S-LOC     12720\n",
            "B-LOC      2643\n",
            "E-LOC      2643\n",
            "I-LOC       422\n",
            "Name: 1, dtype: int64\n"
          ]
        },
        {
          "output_type": "stream",
          "name": "stderr",
          "text": [
            "/usr/local/lib/python3.8/dist-packages/pandas/core/frame.py:5238: SettingWithCopyWarning: \n",
            "A value is trying to be set on a copy of a slice from a DataFrame\n",
            "\n",
            "See the caveats in the documentation: https://pandas.pydata.org/pandas-docs/stable/user_guide/indexing.html#returning-a-view-versus-a-copy\n",
            "  return super().replace(\n"
          ]
        },
        {
          "output_type": "stream",
          "name": "stdout",
          "text": [
            "CPU times: user 3.5 s, sys: 43.6 ms, total: 3.54 s\n",
            "Wall time: 3.57 s\n"
          ]
        }
      ]
    },
    {
      "cell_type": "markdown",
      "source": [
        "# Test+val File"
      ],
      "metadata": {
        "id": "3srfDC5exouc"
      }
    },
    {
      "cell_type": "code",
      "source": [
        "%%time\n",
        "import shutil\n",
        "\n",
        "path = \"/content/\" + \"IDRISI/LMR/data/\"\n",
        "\n",
        "events = [\"california_wildfires_2018\", \"canada_wildfires_2016\", \"cyclone_idai_2019\", \"ecuador_earthquake_2016\", \n",
        "          \"greece_wildfires_2018\", \"hurricane_dorian_2019\", \"hurricane_florence_2018\", \"hurricane_harvey_2017\", \n",
        "          \"hurricane_irma_2017\", \"hurricane_maria_2017\", \"hurricane_matthew_2016\", \"italy_earthquake_aug_2016\", \n",
        "          \"kaikoura_earthquake_2016\", \"kerala_floods_2018\", \"maryland_floods_2018\", \"midwestern_us_floods_2019\", \n",
        "          \"pakistan_earthquake_2019\", \"puebla_mexico_earthquake_2017\", \"srilanka_floods_2017\"]\n",
        "\n",
        "train_path_list = []\n",
        "test_path_list = []\n",
        "for typ in ['typeless']:\n",
        "    for case in ['random']:\n",
        "        for event in events:\n",
        "            in_path = path + \"EN/gold-\" + case + \"-bilou/\" + event \n",
        "            train_path = in_path + \"/train.txt\"\n",
        "            test_path = in_path + \"/dev.txt\"\n",
        "            train_path_list.append(train_path)\n",
        "            test_path_list.append(test_path)\n",
        "print(train_path_list)\n",
        "print(test_path_list)\n",
        "\n",
        "\n",
        "with open('deberta_test.txt','wb') as wfd:\n",
        "    for f in test_path_list:\n",
        "        with open(f,'rb') as fd:\n",
        "            shutil.copyfileobj(fd, wfd)\n",
        "\n",
        "df = pd.read_csv(\"/content/deberta_test.txt\", encoding='utf8', header=None, skip_blank_lines=False, sep=' ')\n",
        "\n",
        "types = {\"Island\": \"ISL\", \"State\": \"STAT\", \"Continent\": \"CONT\", \"City/town\": \"CITY\", \"Country\": \"CTRY\",\n",
        "        \"County\": \"CNTY\", \"Neighborhood\": \"NBHD\", \"District\": \"DIST\", \"Road/street\": \"ST\", \"Other locations\": \"OTHR\", \n",
        "        \"Natural Point-of-Interest\": \"NPOI\", \"Human-made Point-of-Interest\": \"HPOI\"}\n",
        "# Cases of \", O\"; handling issues encountered. So dropping\n",
        "df.drop(df[~df[0].isna() & df[1].isna()].index, inplace=True)\n",
        "\n",
        "for v in types.values():\n",
        "    df[1] = df[1].str.replace(v, 'LOC')\n",
        "df[1] = df[1].str.replace('U-LOC', 'S-LOC')\n",
        "df[1] = df[1].str.replace('L-LOC', 'E-LOC')\n",
        "\n",
        "print(df[1].value_counts())\n",
        "\n",
        "df[\"comb\"]=df[0] + \" \" + df[1]\n",
        "df = df[[\"comb\"]]\n",
        "df.replace(np.nan,'',regex=True, inplace=True)\n",
        "df.to_csv(\"deberta_TEST.txt\", index=False, header=False)"
      ],
      "metadata": {
        "colab": {
          "base_uri": "https://localhost:8080/"
        },
        "id": "6KjlzVn5rI6s",
        "outputId": "80ea2967-096e-40f0-ea39-152501c2d622"
      },
      "execution_count": null,
      "outputs": [
        {
          "output_type": "stream",
          "name": "stdout",
          "text": [
            "['/content/IDRISI/LMR/data/EN/gold-random-bilou/california_wildfires_2018/train.txt', '/content/IDRISI/LMR/data/EN/gold-random-bilou/canada_wildfires_2016/train.txt', '/content/IDRISI/LMR/data/EN/gold-random-bilou/cyclone_idai_2019/train.txt', '/content/IDRISI/LMR/data/EN/gold-random-bilou/ecuador_earthquake_2016/train.txt', '/content/IDRISI/LMR/data/EN/gold-random-bilou/greece_wildfires_2018/train.txt', '/content/IDRISI/LMR/data/EN/gold-random-bilou/hurricane_dorian_2019/train.txt', '/content/IDRISI/LMR/data/EN/gold-random-bilou/hurricane_florence_2018/train.txt', '/content/IDRISI/LMR/data/EN/gold-random-bilou/hurricane_harvey_2017/train.txt', '/content/IDRISI/LMR/data/EN/gold-random-bilou/hurricane_irma_2017/train.txt', '/content/IDRISI/LMR/data/EN/gold-random-bilou/hurricane_maria_2017/train.txt', '/content/IDRISI/LMR/data/EN/gold-random-bilou/hurricane_matthew_2016/train.txt', '/content/IDRISI/LMR/data/EN/gold-random-bilou/italy_earthquake_aug_2016/train.txt', '/content/IDRISI/LMR/data/EN/gold-random-bilou/kaikoura_earthquake_2016/train.txt', '/content/IDRISI/LMR/data/EN/gold-random-bilou/kerala_floods_2018/train.txt', '/content/IDRISI/LMR/data/EN/gold-random-bilou/maryland_floods_2018/train.txt', '/content/IDRISI/LMR/data/EN/gold-random-bilou/midwestern_us_floods_2019/train.txt', '/content/IDRISI/LMR/data/EN/gold-random-bilou/pakistan_earthquake_2019/train.txt', '/content/IDRISI/LMR/data/EN/gold-random-bilou/puebla_mexico_earthquake_2017/train.txt', '/content/IDRISI/LMR/data/EN/gold-random-bilou/srilanka_floods_2017/train.txt']\n",
            "['/content/IDRISI/LMR/data/EN/gold-random-bilou/california_wildfires_2018/dev.txt', '/content/IDRISI/LMR/data/EN/gold-random-bilou/canada_wildfires_2016/dev.txt', '/content/IDRISI/LMR/data/EN/gold-random-bilou/cyclone_idai_2019/dev.txt', '/content/IDRISI/LMR/data/EN/gold-random-bilou/ecuador_earthquake_2016/dev.txt', '/content/IDRISI/LMR/data/EN/gold-random-bilou/greece_wildfires_2018/dev.txt', '/content/IDRISI/LMR/data/EN/gold-random-bilou/hurricane_dorian_2019/dev.txt', '/content/IDRISI/LMR/data/EN/gold-random-bilou/hurricane_florence_2018/dev.txt', '/content/IDRISI/LMR/data/EN/gold-random-bilou/hurricane_harvey_2017/dev.txt', '/content/IDRISI/LMR/data/EN/gold-random-bilou/hurricane_irma_2017/dev.txt', '/content/IDRISI/LMR/data/EN/gold-random-bilou/hurricane_maria_2017/dev.txt', '/content/IDRISI/LMR/data/EN/gold-random-bilou/hurricane_matthew_2016/dev.txt', '/content/IDRISI/LMR/data/EN/gold-random-bilou/italy_earthquake_aug_2016/dev.txt', '/content/IDRISI/LMR/data/EN/gold-random-bilou/kaikoura_earthquake_2016/dev.txt', '/content/IDRISI/LMR/data/EN/gold-random-bilou/kerala_floods_2018/dev.txt', '/content/IDRISI/LMR/data/EN/gold-random-bilou/maryland_floods_2018/dev.txt', '/content/IDRISI/LMR/data/EN/gold-random-bilou/midwestern_us_floods_2019/dev.txt', '/content/IDRISI/LMR/data/EN/gold-random-bilou/pakistan_earthquake_2019/dev.txt', '/content/IDRISI/LMR/data/EN/gold-random-bilou/puebla_mexico_earthquake_2017/dev.txt', '/content/IDRISI/LMR/data/EN/gold-random-bilou/srilanka_floods_2017/dev.txt']\n",
            "O        49408\n",
            "S-LOC     1809\n",
            "B-LOC      385\n",
            "E-LOC      385\n",
            "I-LOC       51\n",
            "Name: 1, dtype: int64\n",
            "CPU times: user 565 ms, sys: 7.8 ms, total: 573 ms\n",
            "Wall time: 581 ms\n"
          ]
        }
      ]
    },
    {
      "cell_type": "markdown",
      "source": [
        "# 3) Combined dataset of WNUT+ BERT_NER+IDRISI"
      ],
      "metadata": {
        "id": "ftG2FIBQxGvA"
      }
    },
    {
      "cell_type": "markdown",
      "source": [
        "# WNUT dataset"
      ],
      "metadata": {
        "id": "eJ2vQXUgByoa"
      }
    },
    {
      "cell_type": "code",
      "source": [
        "import pandas as pd\n",
        "import numpy as np\n",
        "df = pd.read_csv(\"https://raw.githubusercontent.com/leondz/emerging_entities_17/master/wnut17train.conll\", encoding='utf8', header=None, skip_blank_lines=False, sep='\\t')\n",
        "df[1] = np.where(df[1].str.endswith(\"location\"), df[1], \"O\")\n",
        "df[1] = df[1].str.replace(\"location\", \"LOC\")\n",
        "df[\"comb\"]=df[0] + \" \" + df[1]\n",
        "df = df[[\"comb\"]]\n",
        "df.replace(np.nan,'',regex=True, inplace=True)\n",
        "df.to_csv(\"wnut17train.txt\", index=False, header=False)"
      ],
      "metadata": {
        "colab": {
          "base_uri": "https://localhost:8080/"
        },
        "id": "DX3XlvrCZvz0",
        "outputId": "2b61667e-205b-404f-daa5-5a9d653cedf2"
      },
      "execution_count": null,
      "outputs": [
        {
          "output_type": "stream",
          "name": "stderr",
          "text": [
            "/usr/local/lib/python3.7/dist-packages/pandas/core/frame.py:5244: SettingWithCopyWarning: \n",
            "A value is trying to be set on a copy of a slice from a DataFrame\n",
            "\n",
            "See the caveats in the documentation: https://pandas.pydata.org/pandas-docs/stable/user_guide/indexing.html#returning-a-view-versus-a-copy\n",
            "  method=method,\n"
          ]
        }
      ]
    },
    {
      "cell_type": "markdown",
      "source": [
        "# BERT-NER Dataset"
      ],
      "metadata": {
        "id": "enX5vzUbBvtK"
      }
    },
    {
      "cell_type": "code",
      "source": [
        "import pandas as pd\n",
        "import numpy as np\n",
        "df = pd.read_csv(\"https://raw.githubusercontent.com/kamalkraj/BERT-NER/dev/data/train.txt\", encoding='utf8', skiprows=2, header=None, skip_blank_lines=False, sep=' ')\n",
        "df = df[[0, 3]]\n",
        "df[3] = np.where(df[3].str.endswith(\"LOC\"), df[3], \"O\")\n",
        "df[\"comb\"]=df[0] + \" \" + df[3]\n",
        "df = df[[\"comb\"]]\n",
        "df.replace(np.nan,'',regex=True, inplace=True)\n",
        "# df = df.append(pd.Series(\"\", index=df.columns), ignore_index=True)\n",
        "df.to_csv(\"BERT-NER_train.txt\", index=False, header=False)"
      ],
      "metadata": {
        "id": "HpOpiJrFpqhN"
      },
      "execution_count": null,
      "outputs": []
    },
    {
      "cell_type": "code",
      "source": [
        "import pandas as pd\n",
        "import numpy as np\n",
        "df = pd.read_csv(\"https://raw.githubusercontent.com/kamalkraj/BERT-NER/dev/data/valid.txt\", encoding='utf8', skiprows=2, header=None, skip_blank_lines=False, sep=' ')\n",
        "df = df[[0, 3]]\n",
        "df[3] = np.where(df[3].str.endswith(\"LOC\"), df[3], \"O\")\n",
        "df[\"comb\"]=df[0] + \" \" + df[3]\n",
        "df = df[[\"comb\"]]\n",
        "df.replace(np.nan,'',regex=True, inplace=True)\n",
        "df.to_csv(\"BERT-NER_valid.txt\", index=False, header=False)"
      ],
      "metadata": {
        "id": "6QD0QTW9O3oz"
      },
      "execution_count": null,
      "outputs": []
    },
    {
      "cell_type": "code",
      "source": [
        "import pandas as pd\n",
        "import numpy as np\n",
        "df = pd.read_csv(\"https://raw.githubusercontent.com/kamalkraj/BERT-NER/dev/data/test.txt\", encoding='utf8', skiprows=2, header=None, skip_blank_lines=False, sep=' ')\n",
        "df = df[[0, 3]]\n",
        "df[3] = np.where(df[3].str.endswith(\"LOC\"), df[3], \"O\")\n",
        "df[\"comb\"]=df[0] + \" \" + df[3]\n",
        "df = df[[\"comb\"]]\n",
        "df.replace(np.nan,'',regex=True, inplace=True)\n",
        "df.to_csv(\"BERT-NER_test.txt\", index=False, header=False)"
      ],
      "metadata": {
        "id": "_NClHx8WpqWb"
      },
      "execution_count": null,
      "outputs": []
    },
    {
      "cell_type": "markdown",
      "source": [
        "# IDRISI dataset"
      ],
      "metadata": {
        "id": "F097d0yoBqt2"
      }
    },
    {
      "cell_type": "code",
      "source": [
        "!git clone https://github.com/rsuwaileh/IDRISI.git"
      ],
      "metadata": {
        "colab": {
          "base_uri": "https://localhost:8080/"
        },
        "id": "Er6pKFPGhxc5",
        "outputId": "06ca3f33-a252-4e73-bedf-107bad2ce9b7"
      },
      "execution_count": null,
      "outputs": [
        {
          "output_type": "stream",
          "name": "stdout",
          "text": [
            "Cloning into 'IDRISI'...\n",
            "remote: Enumerating objects: 1062, done.\u001b[K\n",
            "remote: Counting objects: 100% (188/188), done.\u001b[K\n",
            "remote: Compressing objects: 100% (121/121), done.\u001b[K\n",
            "remote: Total 1062 (delta 108), reused 100 (delta 59), pack-reused 874\u001b[K\n",
            "Receiving objects: 100% (1062/1062), 26.15 MiB | 13.85 MiB/s, done.\n",
            "Resolving deltas: 100% (325/325), done.\n",
            "Checking out files: 100% (274/274), done.\n"
          ]
        }
      ]
    },
    {
      "cell_type": "code",
      "source": [
        "%%time\n",
        "import shutil\n",
        "\n",
        "path = \"/content/\" + \"IDRISI/LMR/data/\"\n",
        "\n",
        "events = [\"california_wildfires_2018\", \"canada_wildfires_2016\", \"cyclone_idai_2019\", \"ecuador_earthquake_2016\", \n",
        "          \"greece_wildfires_2018\", \"hurricane_dorian_2019\", \"hurricane_florence_2018\", \"hurricane_harvey_2017\", \n",
        "          \"hurricane_irma_2017\", \"hurricane_maria_2017\", \"hurricane_matthew_2016\", \"italy_earthquake_aug_2016\", \n",
        "          \"kaikoura_earthquake_2016\", \"kerala_floods_2018\", \"maryland_floods_2018\", \"midwestern_us_floods_2019\", \n",
        "          \"pakistan_earthquake_2019\", \"puebla_mexico_earthquake_2017\", \"srilanka_floods_2017\"]\n",
        "\n",
        "train_path_list = []\n",
        "test_path_list = []\n",
        "for typ in ['typeless']:\n",
        "    for case in ['random']:\n",
        "        for event in events:\n",
        "            in_path = path + \"EN/gold-\" + case + \"-bilou/\" + event \n",
        "            train_path = in_path + \"/train.txt\"\n",
        "            test_path = in_path + \"/dev.txt\"\n",
        "            train_path_list.append(train_path)\n",
        "            test_path_list.append(test_path)\n",
        "print(train_path_list)\n",
        "print(test_path_list)\n",
        "\n",
        "\n",
        "with open('IDRISI_train_combined.txt','wb') as wfd:\n",
        "    for f in train_path_list:\n",
        "        with open(f,'rb') as fd:\n",
        "            shutil.copyfileobj(fd, wfd)"
      ],
      "metadata": {
        "colab": {
          "base_uri": "https://localhost:8080/"
        },
        "id": "2kQyGpJ3S35h",
        "outputId": "e86a2233-3c02-4b94-e787-cf0c4473a4be"
      },
      "execution_count": null,
      "outputs": [
        {
          "output_type": "stream",
          "name": "stdout",
          "text": [
            "['/content/IDRISI/LMR/data/EN/gold-random-bilou/california_wildfires_2018/train.txt', '/content/IDRISI/LMR/data/EN/gold-random-bilou/canada_wildfires_2016/train.txt', '/content/IDRISI/LMR/data/EN/gold-random-bilou/cyclone_idai_2019/train.txt', '/content/IDRISI/LMR/data/EN/gold-random-bilou/ecuador_earthquake_2016/train.txt', '/content/IDRISI/LMR/data/EN/gold-random-bilou/greece_wildfires_2018/train.txt', '/content/IDRISI/LMR/data/EN/gold-random-bilou/hurricane_dorian_2019/train.txt', '/content/IDRISI/LMR/data/EN/gold-random-bilou/hurricane_florence_2018/train.txt', '/content/IDRISI/LMR/data/EN/gold-random-bilou/hurricane_harvey_2017/train.txt', '/content/IDRISI/LMR/data/EN/gold-random-bilou/hurricane_irma_2017/train.txt', '/content/IDRISI/LMR/data/EN/gold-random-bilou/hurricane_maria_2017/train.txt', '/content/IDRISI/LMR/data/EN/gold-random-bilou/hurricane_matthew_2016/train.txt', '/content/IDRISI/LMR/data/EN/gold-random-bilou/italy_earthquake_aug_2016/train.txt', '/content/IDRISI/LMR/data/EN/gold-random-bilou/kaikoura_earthquake_2016/train.txt', '/content/IDRISI/LMR/data/EN/gold-random-bilou/kerala_floods_2018/train.txt', '/content/IDRISI/LMR/data/EN/gold-random-bilou/maryland_floods_2018/train.txt', '/content/IDRISI/LMR/data/EN/gold-random-bilou/midwestern_us_floods_2019/train.txt', '/content/IDRISI/LMR/data/EN/gold-random-bilou/pakistan_earthquake_2019/train.txt', '/content/IDRISI/LMR/data/EN/gold-random-bilou/puebla_mexico_earthquake_2017/train.txt', '/content/IDRISI/LMR/data/EN/gold-random-bilou/srilanka_floods_2017/train.txt']\n",
            "['/content/IDRISI/LMR/data/EN/gold-random-bilou/california_wildfires_2018/dev.txt', '/content/IDRISI/LMR/data/EN/gold-random-bilou/canada_wildfires_2016/dev.txt', '/content/IDRISI/LMR/data/EN/gold-random-bilou/cyclone_idai_2019/dev.txt', '/content/IDRISI/LMR/data/EN/gold-random-bilou/ecuador_earthquake_2016/dev.txt', '/content/IDRISI/LMR/data/EN/gold-random-bilou/greece_wildfires_2018/dev.txt', '/content/IDRISI/LMR/data/EN/gold-random-bilou/hurricane_dorian_2019/dev.txt', '/content/IDRISI/LMR/data/EN/gold-random-bilou/hurricane_florence_2018/dev.txt', '/content/IDRISI/LMR/data/EN/gold-random-bilou/hurricane_harvey_2017/dev.txt', '/content/IDRISI/LMR/data/EN/gold-random-bilou/hurricane_irma_2017/dev.txt', '/content/IDRISI/LMR/data/EN/gold-random-bilou/hurricane_maria_2017/dev.txt', '/content/IDRISI/LMR/data/EN/gold-random-bilou/hurricane_matthew_2016/dev.txt', '/content/IDRISI/LMR/data/EN/gold-random-bilou/italy_earthquake_aug_2016/dev.txt', '/content/IDRISI/LMR/data/EN/gold-random-bilou/kaikoura_earthquake_2016/dev.txt', '/content/IDRISI/LMR/data/EN/gold-random-bilou/kerala_floods_2018/dev.txt', '/content/IDRISI/LMR/data/EN/gold-random-bilou/maryland_floods_2018/dev.txt', '/content/IDRISI/LMR/data/EN/gold-random-bilou/midwestern_us_floods_2019/dev.txt', '/content/IDRISI/LMR/data/EN/gold-random-bilou/pakistan_earthquake_2019/dev.txt', '/content/IDRISI/LMR/data/EN/gold-random-bilou/puebla_mexico_earthquake_2017/dev.txt', '/content/IDRISI/LMR/data/EN/gold-random-bilou/srilanka_floods_2017/dev.txt']\n",
            "CPU times: user 6.31 ms, sys: 1.66 ms, total: 7.97 ms\n",
            "Wall time: 27.2 ms\n"
          ]
        }
      ]
    },
    {
      "cell_type": "markdown",
      "source": [
        "# Combine all datasets"
      ],
      "metadata": {
        "id": "jetp6H9jCJYS"
      }
    },
    {
      "cell_type": "code",
      "source": [
        "with open('TRAIN.txt','wb') as wfd:\n",
        "    for f in ['/content/IDRISI_train_combined.txt', '/content/wnut17train.txt',\n",
        "              '/content/BERT-NER_train.txt', '/content/BERT-NER_valid.txt', '/content/BERT-NER_test.txt']:\n",
        "        with open(f,'rb') as fd:\n",
        "            shutil.copyfileobj(fd, wfd)"
      ],
      "metadata": {
        "id": "dovDfsmUvL5T"
      },
      "execution_count": null,
      "outputs": []
    },
    {
      "cell_type": "markdown",
      "source": [
        "## Remove multi blank  lines"
      ],
      "metadata": {
        "id": "U3mVMiEeCOB1"
      }
    },
    {
      "cell_type": "code",
      "source": [
        "import re\n",
        "with open('TRAIN.txt', 'r+') as sourceFile:\n",
        "    sourceFileContents = sourceFile.read()\n",
        "    sourceFileContents = re.sub(r'\\n\\s*\\n', '\\n\\n', sourceFileContents)\n",
        "    sourceFile.write(sourceFileContents)"
      ],
      "metadata": {
        "id": "WEzVwtfCCSL4"
      },
      "execution_count": null,
      "outputs": []
    },
    {
      "cell_type": "markdown",
      "source": [
        "## Train file \n",
        "#### Keeping LOC tags only"
      ],
      "metadata": {
        "id": "FGB9eRFlCjBW"
      }
    },
    {
      "cell_type": "code",
      "source": [
        "types = {\"Island\": \"ISL\", \"State\": \"STAT\", \"Continent\": \"CONT\", \"City/town\": \"CITY\", \"Country\": \"CTRY\",\n",
        "        \"County\": \"CNTY\", \"Neighborhood\": \"NBHD\", \"District\": \"DIST\", \"Road/street\": \"ST\", \"Other locations\": \"OTHR\", \n",
        "        \"Natural Point-of-Interest\": \"NPOI\", \"Human-made Point-of-Interest\": \"HPOI\"}\n",
        "\n",
        "df = pd.read_csv(\"/content/TRAIN.txt\", encoding='utf8', header=None, skip_blank_lines=False, sep=' ')\n",
        "\n",
        "# Cases of \", O\"; handling issues encountered. So dropping\n",
        "df.drop(df[~df[0].isna() & df[1].isna()].index, inplace=True)\n",
        "\n",
        "for v in types.values():\n",
        "    df[1] = df[1].str.replace(v, 'LOC')\n",
        "df[1] = df[1].str.replace('U-LOC', 'S-LOC')\n",
        "df[1] = df[1].str.replace('L-LOC', 'E-LOC')\n",
        "\n",
        "print(df[1].value_counts())\n",
        "\n",
        "df[\"comb\"]=df[0] + \" \" + df[1]\n",
        "df = df[[\"comb\"]]\n",
        "df.replace(np.nan,'',regex=True, inplace=True)\n",
        "df.to_csv(\"TRAIN.txt\", index=False, header=False)"
      ],
      "metadata": {
        "colab": {
          "base_uri": "https://localhost:8080/"
        },
        "id": "IKScCqxPubBv",
        "outputId": "249d695b-e4c2-4078-86aa-b907aa57c762"
      },
      "execution_count": null,
      "outputs": [
        {
          "output_type": "stream",
          "name": "stdout",
          "text": [
            "O        1347688\n",
            "B-LOC      27564\n",
            "S-LOC      25440\n",
            "E-LOC       5286\n",
            "I-LOC       4634\n",
            "Name: 1, dtype: int64\n"
          ]
        }
      ]
    },
    {
      "cell_type": "markdown",
      "source": [
        "# Validation file"
      ],
      "metadata": {
        "id": "na__0HxkCcLU"
      }
    },
    {
      "cell_type": "code",
      "source": [
        "with open('DEV.txt','wb') as wfd:\n",
        "    for f in test_path_list:\n",
        "        with open(f,'rb') as fd:\n",
        "            shutil.copyfileobj(fd, wfd)\n",
        "\n",
        "# Make multiple blank lines into one\n",
        "with open('DEV.txt', 'r+') as sourceFile:\n",
        "    sourceFileContents = sourceFile.read()\n",
        "    sourceFileContents = re.sub(r'\\n\\s*\\n', '\\n\\n', sourceFileContents)\n",
        "    sourceFile.write(sourceFileContents)\n",
        "\n",
        "\n",
        "df = pd.read_csv(\"/content/DEV.txt\", encoding='utf8', header=None, skip_blank_lines=False, sep=' ')\n",
        "df.drop(df[~df[0].isna() & df[1].isna()].index, inplace=True)\n",
        "\n",
        "for v in types.values():\n",
        "    df[1] = df[1].str.replace(v, 'LOC')\n",
        "df[1] = df[1].str.replace('U-LOC', 'S-LOC')\n",
        "df[1] = df[1].str.replace('L-LOC', 'E-LOC')\n",
        "\n",
        "print(df[1].value_counts())\n",
        "\n",
        "df[\"comb\"]=df[0] + \" \" + df[1]\n",
        "df = df[[\"comb\"]]\n",
        "df.replace(np.nan,'', regex=True, inplace=True)\n",
        "df.to_csv(\"DEV.txt\", index=False, header=False)"
      ],
      "metadata": {
        "colab": {
          "base_uri": "https://localhost:8080/"
        },
        "id": "wRVQB2iMkdSs",
        "outputId": "5cebc729-eb5b-4a66-9007-302d919cdb89"
      },
      "execution_count": null,
      "outputs": [
        {
          "output_type": "stream",
          "name": "stdout",
          "text": [
            "O        98816\n",
            "S-LOC     3618\n",
            "B-LOC      770\n",
            "E-LOC      770\n",
            "I-LOC      102\n",
            "Name: 1, dtype: int64\n"
          ]
        }
      ]
    },
    {
      "cell_type": "markdown",
      "source": [
        "# TRAIN.txt and DEV.TXT are the final files"
      ],
      "metadata": {
        "id": "RXOmfUOHDV7X"
      }
    },
    {
      "cell_type": "code",
      "source": [],
      "metadata": {
        "id": "4T1aaNjqDZyt"
      },
      "execution_count": null,
      "outputs": []
    }
  ]
}